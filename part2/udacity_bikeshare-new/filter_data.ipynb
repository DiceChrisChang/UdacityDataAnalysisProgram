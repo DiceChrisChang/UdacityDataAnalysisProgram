{
 "cells": [
  {
   "cell_type": "code",
   "execution_count": 4,
   "metadata": {
    "scrolled": true
   },
   "outputs": [],
   "source": [
    "import numpy as np\n",
    "import pandas as pd\n",
    "import matplotlib\n",
    "import matplotlib.pyplot as plt\n",
    "import seaborn as sns\n",
    "# how to use seaborn\n",
    "from matplotlib.figure import Figure\n",
    "# for the plot visualization\n",
    "\n",
    "\n",
    "def filter_data(city,month,weekday):\n",
    "    '''function to get data from csv files devided by city\n",
    "       return\n",
    "       data: the file of city from csv\n",
    "    '''\n",
    "    # start install csv_files(three) as seperate as city\n",
    "    CITY_DATA = {'Chicago':'chicago.csv',\n",
    "             'NewYorkCity':'new_york_city.csv',\n",
    "             'Washington':'washington.csv'}\n",
    "    # CITY_DATA is dict so use items() to traverse/遍历 to get keys & values\n",
    "    for (key,values) in CITY_DATA.items():\n",
    "        if key==city:\n",
    "            data = pd.read_csv(values)\n",
    "    data['Start Time'] = pd.to_datetime(data['Start Time'])\n",
    "    data['start_month'] = data['Start Time'].dt.month\n",
    "    data['start_hour'] = data['Start Time'].dt.hour\n",
    "    data['start_weekday'] = data['Start Time'].dt.weekday\n",
    "    if month != None:\n",
    "        months = ['January', 'February', 'March', 'April', 'May', 'June',\n",
    "                  'July','Augest','September','October ','November','December']\n",
    "        start_month = months.index(month) + 1\n",
    "        data = data[data['start_month'] == start_month]\n",
    "    if weekday != None:\n",
    "        weeks = ['Sunday','Monday','Tuesday','Wednesday ','Thursday ','Friday ','Saturday']\n",
    "        # weekday start from 0 to 6 as the indexs don't need to add 1\n",
    "        start_weekday = weeks.index(weekday)\n",
    "        data = data[data['start_weekday'] == start_weekday]\n",
    "    # in order to anlysis data\n",
    "    return data\n",
    "\n",
    "\n",
    "def data_analysis(data,two_choosen_parts):\n",
    "    mode_name = data[two_choosen_parts].value_counts().first_valid_index()\n",
    "    mode_count = data[two_choosen_parts].value_counts().iloc[0,]\n",
    "    return mode_name,mode_count\n",
    "\n",
    "def trip_dutation(data):\n",
    "    trip_dutation_sum = data['Trip Duration'].sum()\n",
    "    trip_dutation_mean = data['Trip Duration'].mean()\n",
    "    return trip_dutation_sum,trip_dutation_mean\n",
    "\n",
    "def user_analysis(data,three_parts_user):\n",
    "    if three_parts_user == 'User Type'or three_parts_user == 'Gender':\n",
    "        total_type_analysis = data[three_parts_user].value_counts()\n",
    "        return total_type_analysis\n",
    "    elif three_parts_user == 'Birth Year':\n",
    "        year_min = data[three_parts_user].min()\n",
    "        year_max = data[three_parts_user].max()\n",
    "        year_mode = data[three_parts_user].value_counts().first_valid_index()\n",
    "        return year_min,year_max,year_mode\n",
    "\n",
    "########################### main ##############################\n",
    "\n",
    "# print(data.groupby(['Start Station','End Station']).agg({'Start Station':sum,'End Station':sum}))\n",
    "# thwo_choosen_parts = ['Start Station','End Station']\n",
    "# data_analysis(data,'End Station')\n",
    "# trip_dutation(data)\n",
    "# three_parts_user = ['User Type','Gender','Birth Year']\n",
    "# user_analysis(data,'User Type')\n",
    "# seems like some city file don't have the user type\n",
    "\n",
    "global data\n",
    "def main ():\n",
    "    while True:\n",
    "        def filter():\n",
    "            '''\n",
    "            get values from input and use filter_data to filter return a data seperate datetime\n",
    "            '''\n",
    "            try:\n",
    "                city = input('\\nWhich city do you want to walk through ? Chicago, NewYorkCity, Washington \\n')\n",
    "                month = input('\\nWhich month,January,February,March,Apri,May,June,July,Augest,September,October,November,December ? \\n')\n",
    "                weekday = input('\\nWhich weekday,Sunday,Monday,Tuesday,Wednesday,Thursday,Friday,Saturday \\n')\n",
    "                data = filter_data(city,month,weekday)\n",
    "            except:\n",
    "                print('There is something wrong in your input, plesase try again! ')\n",
    "                filter()\n",
    "            else:\n",
    "                # data = filter_data(city,month,weekday)\n",
    "                return data\n",
    "\n",
    "        # filter()\n",
    "\n",
    "        # easy try\n",
    "        data = filter_data('NewYorkCity','September','Saturday')\n",
    "        data['COUNTER'] =1\n",
    "        print(data.groupby(['Start Station','End Station'])['COUNTER'].sum())\n",
    "\n"
   ]
  },
  {
   "cell_type": "code",
   "execution_count": 7,
   "metadata": {},
   "outputs": [
    {
     "name": "stdout",
     "output_type": "stream",
     "text": [
      "col5  col2\n",
      "1     A       1\n",
      "      D       3\n",
      "2     B       2\n",
      "3     A       3\n",
      "      C       1\n",
      "4     B       1\n",
      "5     B       2\n",
      "6     B       1\n",
      "Name: COUNTER, dtype: int64\n"
     ]
    },
    {
     "data": {
      "text/plain": [
       "3"
      ]
     },
     "execution_count": 7,
     "metadata": {},
     "output_type": "execute_result"
    }
   ],
   "source": [
    "import pandas as pd\n",
    "df = pd.DataFrame([[1.1, 1.1, 1.1, 2.6, 2.5, 3.4,2.6,2.6,3.4,3.4,2.6,1.1,1.1,3.3], list('AAABBBBABCBDDD'), [1.1, 1.7, 2.5, 2.6, 3.3, 3.8,4.0,4.2,4.3,4.5,4.6,4.7,4.7,4.8], ['x/y/z','x/y','x/y/z/n','x/u','x','x/u/v','x/y/z','x','x/u/v/b','-','x/y','x/y/z','x','x/u/v/w'],['1','3','3','2','4','2','5','3','6','3','5','1','1','1']]).T\n",
    "df.columns = ['col1','col2','col3','col4','col5']\n",
    "df['COUNTER'] =1       #initially, set that counter to 1.\n",
    "group_data = df.groupby(['col5', 'col2'])['COUNTER'].sum() #sum function\n",
    "print(group_data)\n",
    "df.groupby(['col5', 'col2']).size().max()"
   ]
  }
 ],
 "metadata": {
  "kernelspec": {
   "display_name": "Python 3",
   "language": "python",
   "name": "python3"
  },
  "language_info": {
   "codemirror_mode": {
    "name": "ipython",
    "version": 3
   },
   "file_extension": ".py",
   "mimetype": "text/x-python",
   "name": "python",
   "nbconvert_exporter": "python",
   "pygments_lexer": "ipython3",
   "version": "3.6.4"
  }
 },
 "nbformat": 4,
 "nbformat_minor": 2
}
